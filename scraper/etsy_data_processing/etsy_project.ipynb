{
 "cells": [
  {
   "cell_type": "code",
   "execution_count": 1,
   "metadata": {
    "collapsed": true
   },
   "outputs": [
    {
     "name": "stderr",
     "output_type": "stream",
     "text": [
      "[nltk_data] Downloading package stopwords to /home/oliver/nltk_data...\n",
      "[nltk_data]   Package stopwords is already up-to-date!\n",
      "[nltk_data] Downloading package punkt to /home/oliver/nltk_data...\n",
      "[nltk_data]   Package punkt is already up-to-date!\n"
     ]
    },
    {
     "data": {
      "text/plain": "True"
     },
     "execution_count": 1,
     "metadata": {},
     "output_type": "execute_result"
    }
   ],
   "source": [
    "# imports\n",
    "import re\n",
    "from collections import defaultdict\n",
    "\n",
    "import nltk\n",
    "import numpy as np\n",
    "import pandas as pd\n",
    "from nltk import word_tokenize\n",
    "from nltk.corpus import stopwords\n",
    "from sklearn.decomposition import TruncatedSVD\n",
    "from sklearn.preprocessing import MinMaxScaler, LabelEncoder\n",
    "\n",
    "nltk.download('stopwords')\n",
    "nltk.download('punkt')"
   ]
  },
  {
   "cell_type": "code",
   "execution_count": 2,
   "outputs": [],
   "source": [
    "# constants\n",
    "products_dtype_dict = {\n",
    "    \"productUrl\": np.str,\n",
    "    \"productName\": np.str,\n",
    "    \"productCategory\": np.str,\n",
    "    \"productRating\": np.float64,\n",
    "    \"productReviews\": np.int32,\n",
    "    \"productPriceSale\": np.float64,\n",
    "    \"productPriceOriginal\": np.float64,\n",
    "    \"productShop\": np.str\n",
    "}\n",
    "\n",
    "shops_dtype_dict = {\n",
    "    \"shopName\": np.str,\n",
    "    \"noOfItems\": np.float64,\n",
    "    \"shopOwner\": np.str,\n",
    "    \"shopAddress\": np.str,\n",
    "    \"noOfSales\": np.int32,\n",
    "    \"shopImageLink\": np.str,\n",
    "    \"yearCreated\": np.int32\n",
    "}\n",
    "\n",
    "shop_owners_dtype_dict = {\n",
    "    \"shopName\": np.str,\n",
    "    \"shopOwnerName\": np.str,\n",
    "    \"ownerFollowers\": np.int32,\n",
    "    \"ownerFollowing\": np.int32,\n",
    "    \"ownerLocation\": np.str\n",
    "}\n",
    "\n",
    "columns_normalize = [\n",
    "    'productPriceOriginal',\n",
    "    'productPriceSale',\n",
    "    'productRating',\n",
    "    'productReviews',\n",
    "    'noOfItems',\n",
    "    'ownerFollowers',\n",
    "    'ownerFollowing',\n",
    "]\n",
    "\n",
    "features = [\n",
    "    'productUrl',\n",
    "    'productCategory',\n",
    "    'productName',\n",
    "    'productPriceOriginal',\n",
    "    'productPriceSale',\n",
    "    'productRating',\n",
    "    'productReviews',\n",
    "    'noOfItems',\n",
    "    'ownerFollowers',\n",
    "    'ownerFollowing',\n",
    "]"
   ],
   "metadata": {
    "collapsed": false,
    "pycharm": {
     "name": "#%%\n"
    }
   }
  },
  {
   "cell_type": "code",
   "execution_count": 3,
   "outputs": [],
   "source": [
    "# functions\n",
    "def process_review_count(row_string):\n",
    "    row_string = str(row_string)\n",
    "    row_string = row_string.replace('(', '')\n",
    "    row_string = row_string.replace(')', '')\n",
    "    row_string = row_string.replace(',', '')\n",
    "    return row_string\n",
    "\n",
    "def text_cleaner(text):\n",
    "    stop_words = set(stopwords.words('english'))\n",
    "    newString = text.lower()\n",
    "    newString = re.sub(r'\\([^)]*\\)', '', newString)\n",
    "    newString = re.sub('\"','', newString)\n",
    "    newString = ' '.join([contraction_mapping[t] if t in contraction_mapping else t for t in newString.split(\" \")])\n",
    "    newString = re.sub(r\"'s\\b\",\"\",newString)\n",
    "    newString = re.sub(\"[^a-zA-Z]\", \" \", newString)\n",
    "    tokens = [w for w in newString.split() if not w in stop_words]\n",
    "    long_words=[]\n",
    "    for i in tokens:\n",
    "        if len(i)>=3:\n",
    "            long_words.append(i)\n",
    "    return (\" \".join(long_words)).strip()\n",
    "\n",
    "def co_occurrence(sentences, window_size):\n",
    "    d = defaultdict(int)\n",
    "    vocab = set()\n",
    "    for text in sentences:\n",
    "        # preprocessing (use tokenizer instead)\n",
    "        text = word_tokenize(text)\n",
    "        # iterate over sentences\n",
    "        for i in range(len(text)):\n",
    "            token = text[i]\n",
    "            vocab.add(token)  # add to vocab\n",
    "            next_token = text[i+1 : i+1+window_size]\n",
    "            for t in next_token:\n",
    "                key = tuple( sorted([t, token]) )\n",
    "                d[key] += 1\n",
    "\n",
    "    # formulate the dictionary into dataframe\n",
    "    vocab = sorted(vocab) # sort vocab\n",
    "    df = pd.DataFrame(data=np.zeros((len(vocab), len(vocab)), dtype=np.int16),\n",
    "                      index=vocab,\n",
    "                      columns=vocab)\n",
    "    for key, value in d.items():\n",
    "        df.at[key[0], key[1]] = value\n",
    "        df.at[key[1], key[0]] = value\n",
    "    return df"
   ],
   "metadata": {
    "collapsed": false,
    "pycharm": {
     "name": "#%%\n"
    }
   }
  },
  {
   "cell_type": "code",
   "execution_count": 4,
   "outputs": [
    {
     "name": "stdout",
     "output_type": "stream",
     "text": [
      "productCategory           0\n",
      "productName               0\n",
      "productPriceOriginal      0\n",
      "productPriceSale          0\n",
      "productRating           930\n",
      "productReviews          930\n",
      "productShop               0\n",
      "productUrl                0\n",
      "dtype: int64\n",
      "productCategory         0\n",
      "productName             0\n",
      "productPriceOriginal    0\n",
      "productPriceSale        0\n",
      "productRating           0\n",
      "productReviews          0\n",
      "productShop             0\n",
      "productUrl              0\n",
      "dtype: int64\n"
     ]
    }
   ],
   "source": [
    "products = pd.read_csv('../data/products_final.csv')\n",
    "# small number of missing values so dropping won't affect the data\n",
    "# additionally our further processing will require the number of reviews\n",
    "# and the rating of the product\n",
    "print(products.isna().sum())\n",
    "products.dropna(inplace=True)\n",
    "print(products.isna().sum())\n",
    "\n",
    "products.productPriceOriginal = products.apply(lambda x: x.productPriceOriginal.replace(',', ''), axis=1)\n",
    "products.productPriceSale = products.apply(lambda x: x.productPriceSale.replace(',', ''), axis=1)\n",
    "products.productReviews = products.apply(lambda x: process_review_count(x.productReviews), axis=1)\n",
    "\n",
    "products = products.astype(products_dtype_dict)"
   ],
   "metadata": {
    "collapsed": false,
    "pycharm": {
     "name": "#%%\n"
    }
   }
  },
  {
   "cell_type": "code",
   "execution_count": 5,
   "outputs": [
    {
     "name": "stdout",
     "output_type": "stream",
     "text": [
      "ownerFollowers      0\n",
      "ownerFollowing      0\n",
      "ownerLocation     170\n",
      "shopName          178\n",
      "shopOwnerName       0\n",
      "dtype: int64\n",
      "ownerFollowers    0\n",
      "ownerFollowing    0\n",
      "ownerLocation     0\n",
      "shopName          0\n",
      "shopOwnerName     0\n",
      "dtype: int64\n"
     ]
    }
   ],
   "source": [
    "owners = pd.read_csv('../data/shop_owners_final.csv')\n",
    "print(owners.isna().sum())\n",
    "owners.dropna(inplace=True)\n",
    "print(owners.isna().sum())\n",
    "\n",
    "owners.ownerFollowing = owners.apply(lambda x: x.ownerFollowing.replace(',', ''), axis=1)\n",
    "owners.ownerFollowers = owners.apply(lambda x: x.ownerFollowers.replace(',', ''), axis=1)\n",
    "\n",
    "owners = owners.astype(shop_owners_dtype_dict)"
   ],
   "metadata": {
    "collapsed": false,
    "pycharm": {
     "name": "#%%\n"
    }
   }
  },
  {
   "cell_type": "code",
   "execution_count": 6,
   "outputs": [],
   "source": [
    "shops = pd.read_csv('../data/shops_final.csv')\n",
    "shops = shops.fillna(value=\"-1\")\n",
    "\n",
    "shops.noOfSales = shops.apply(lambda x: x.noOfSales.replace(',', ''), axis=1)\n",
    "\n",
    "shops = shops.astype(shops_dtype_dict)"
   ],
   "metadata": {
    "collapsed": false,
    "pycharm": {
     "name": "#%%\n"
    }
   }
  },
  {
   "cell_type": "code",
   "execution_count": 7,
   "outputs": [
    {
     "data": {
      "text/plain": "   noOfItems  noOfSales                shopAddress  \\\n0     1974.0       3753                         -1   \n1     1649.0       4946       Perry Park, Kentucky   \n2      185.0       4295                         -1   \n3      157.0         -1           Montreal, Canada   \n4       35.0         -1  California, United States   \n\n                                       shopImageLink           shopName  \\\n0  https://i.etsystatic.com/isla/8d68ec/33669914/...      LeftoverStuff   \n1  https://i.etsystatic.com/isla/6e9a83/23009003/...       HazelCatkins   \n2  https://i.etsystatic.com/isla/7ae0af/35870117/...  LilylongtoothToys   \n3  https://i.etsystatic.com/isla/eadddc/38741905/...            neawear   \n4  https://i.etsystatic.com/isla/6ce016/18552484/...           amiamour   \n\n       shopOwner  yearCreated  ownerFollowers  ownerFollowing  \\\n0          Kathy         2008             334             893   \n1  Hazel Catkins         2006              70              61   \n2     DogboneArt         2006              55               0   \n3         Janick         2006             568             129   \n4       amiamour         2006             590              13   \n\n                         ownerLocation  shopOwnerName  \n0            Gosport IN, United States          Kathy  \n1        Perry Park, KY, United States  Hazel Catkins  \n2  holland township, nj, United States     DogboneArt  \n3                 Montreal, QC, Canada         Janick  \n4            California, United States       amiamour  ",
      "text/html": "<div>\n<style scoped>\n    .dataframe tbody tr th:only-of-type {\n        vertical-align: middle;\n    }\n\n    .dataframe tbody tr th {\n        vertical-align: top;\n    }\n\n    .dataframe thead th {\n        text-align: right;\n    }\n</style>\n<table border=\"1\" class=\"dataframe\">\n  <thead>\n    <tr style=\"text-align: right;\">\n      <th></th>\n      <th>noOfItems</th>\n      <th>noOfSales</th>\n      <th>shopAddress</th>\n      <th>shopImageLink</th>\n      <th>shopName</th>\n      <th>shopOwner</th>\n      <th>yearCreated</th>\n      <th>ownerFollowers</th>\n      <th>ownerFollowing</th>\n      <th>ownerLocation</th>\n      <th>shopOwnerName</th>\n    </tr>\n  </thead>\n  <tbody>\n    <tr>\n      <th>0</th>\n      <td>1974.0</td>\n      <td>3753</td>\n      <td>-1</td>\n      <td>https://i.etsystatic.com/isla/8d68ec/33669914/...</td>\n      <td>LeftoverStuff</td>\n      <td>Kathy</td>\n      <td>2008</td>\n      <td>334</td>\n      <td>893</td>\n      <td>Gosport IN, United States</td>\n      <td>Kathy</td>\n    </tr>\n    <tr>\n      <th>1</th>\n      <td>1649.0</td>\n      <td>4946</td>\n      <td>Perry Park, Kentucky</td>\n      <td>https://i.etsystatic.com/isla/6e9a83/23009003/...</td>\n      <td>HazelCatkins</td>\n      <td>Hazel Catkins</td>\n      <td>2006</td>\n      <td>70</td>\n      <td>61</td>\n      <td>Perry Park, KY, United States</td>\n      <td>Hazel Catkins</td>\n    </tr>\n    <tr>\n      <th>2</th>\n      <td>185.0</td>\n      <td>4295</td>\n      <td>-1</td>\n      <td>https://i.etsystatic.com/isla/7ae0af/35870117/...</td>\n      <td>LilylongtoothToys</td>\n      <td>DogboneArt</td>\n      <td>2006</td>\n      <td>55</td>\n      <td>0</td>\n      <td>holland township, nj, United States</td>\n      <td>DogboneArt</td>\n    </tr>\n    <tr>\n      <th>3</th>\n      <td>157.0</td>\n      <td>-1</td>\n      <td>Montreal, Canada</td>\n      <td>https://i.etsystatic.com/isla/eadddc/38741905/...</td>\n      <td>neawear</td>\n      <td>Janick</td>\n      <td>2006</td>\n      <td>568</td>\n      <td>129</td>\n      <td>Montreal, QC, Canada</td>\n      <td>Janick</td>\n    </tr>\n    <tr>\n      <th>4</th>\n      <td>35.0</td>\n      <td>-1</td>\n      <td>California, United States</td>\n      <td>https://i.etsystatic.com/isla/6ce016/18552484/...</td>\n      <td>amiamour</td>\n      <td>amiamour</td>\n      <td>2006</td>\n      <td>590</td>\n      <td>13</td>\n      <td>California, United States</td>\n      <td>amiamour</td>\n    </tr>\n  </tbody>\n</table>\n</div>"
     },
     "execution_count": 7,
     "metadata": {},
     "output_type": "execute_result"
    }
   ],
   "source": [
    "shops_with_owners = pd.merge(shops, owners, how='inner', left_on='shopName', right_on='shopName')\n",
    "shops_with_owners.head()"
   ],
   "metadata": {
    "collapsed": false,
    "pycharm": {
     "name": "#%%\n"
    }
   }
  },
  {
   "cell_type": "code",
   "execution_count": 8,
   "outputs": [
    {
     "data": {
      "text/plain": "productUrl              0\nproductCategory         0\nproductName             0\nproductPriceOriginal    0\nproductPriceSale        0\nproductRating           0\nproductReviews          0\nnoOfItems               0\nownerFollowers          0\nownerFollowing          0\ndtype: int64"
     },
     "execution_count": 8,
     "metadata": {},
     "output_type": "execute_result"
    }
   ],
   "source": [
    "data = pd.merge(products, shops_with_owners, how='inner', left_on='productShop', right_on='shopName')\n",
    "data = data[features]\n",
    "data.isna().sum()"
   ],
   "metadata": {
    "collapsed": false,
    "pycharm": {
     "name": "#%%\n"
    }
   }
  },
  {
   "cell_type": "code",
   "execution_count": 9,
   "outputs": [],
   "source": [
    "scaler = MinMaxScaler()\n",
    "data[columns_normalize] = scaler.fit_transform(data[columns_normalize])\n",
    "\n",
    "le = LabelEncoder()\n",
    "data.productCategory = le.fit_transform(data.productCategory)"
   ],
   "metadata": {
    "collapsed": false,
    "pycharm": {
     "name": "#%%\n"
    }
   }
  },
  {
   "cell_type": "code",
   "execution_count": 10,
   "outputs": [],
   "source": [
    "data['isOnSale'] = data.apply(lambda x: 1 if x.productPriceSale > 0 else 0, axis=1)"
   ],
   "metadata": {
    "collapsed": false,
    "pycharm": {
     "name": "#%%\n"
    }
   }
  },
  {
   "cell_type": "code",
   "execution_count": 18,
   "outputs": [
    {
     "data": {
      "text/plain": "                                          productUrl  productCategory  \\\n0  https://www.etsy.com/listing/475757830/stackab...                4   \n1  https://www.etsy.com/listing/83420567/stacking...                4   \n2  https://www.etsy.com/listing/168092030/word-ch...                4   \n3  https://www.etsy.com/listing/249246208/minimal...                4   \n4  https://www.etsy.com/listing/490120699/silver-...                4   \n\n                                         productName  productPriceOriginal  \\\n0  Stackable Name Ring, dainty name ring, persona...              0.014372   \n1  Stacking Ring, custom made silver ring persona...              0.014372   \n2  Word Charms, hand stamped jewelry, personalize...              0.008473   \n3  Minimalist Black And Gold Earrings Gold Dangle...              0.018662   \n4  Silver Stud Earrings Sapphire Earrings Septemb...              0.017053   \n\n   productPriceSale  productRating  productReviews  noOfItems  ownerFollowers  \\\n0               0.0       0.970750        0.070750   0.004885        0.009943   \n1               0.0       0.970750        0.070750   0.004885        0.009943   \n2               0.0       0.970750        0.070750   0.004885        0.009943   \n3               0.0       0.971985        0.014374   0.005061        0.004306   \n4               0.0       0.971985        0.014374   0.005061        0.004306   \n\n   ownerFollowing  isOnSale                               productNameProcessed  \n0        0.146296         0  stackable name ring dainty name ring personali...  \n1        0.146296         0  stacking ring custom made silver ring personal...  \n2        0.146296         0  word charms hand stamped jewelry personalized ...  \n3        0.253704         0  minimalist black gold earrings gold dangle ear...  \n4        0.253704         0  silver stud earrings sapphire earrings septemb...  ",
      "text/html": "<div>\n<style scoped>\n    .dataframe tbody tr th:only-of-type {\n        vertical-align: middle;\n    }\n\n    .dataframe tbody tr th {\n        vertical-align: top;\n    }\n\n    .dataframe thead th {\n        text-align: right;\n    }\n</style>\n<table border=\"1\" class=\"dataframe\">\n  <thead>\n    <tr style=\"text-align: right;\">\n      <th></th>\n      <th>productUrl</th>\n      <th>productCategory</th>\n      <th>productName</th>\n      <th>productPriceOriginal</th>\n      <th>productPriceSale</th>\n      <th>productRating</th>\n      <th>productReviews</th>\n      <th>noOfItems</th>\n      <th>ownerFollowers</th>\n      <th>ownerFollowing</th>\n      <th>isOnSale</th>\n      <th>productNameProcessed</th>\n    </tr>\n  </thead>\n  <tbody>\n    <tr>\n      <th>0</th>\n      <td>https://www.etsy.com/listing/475757830/stackab...</td>\n      <td>4</td>\n      <td>Stackable Name Ring, dainty name ring, persona...</td>\n      <td>0.014372</td>\n      <td>0.0</td>\n      <td>0.970750</td>\n      <td>0.070750</td>\n      <td>0.004885</td>\n      <td>0.009943</td>\n      <td>0.146296</td>\n      <td>0</td>\n      <td>stackable name ring dainty name ring personali...</td>\n    </tr>\n    <tr>\n      <th>1</th>\n      <td>https://www.etsy.com/listing/83420567/stacking...</td>\n      <td>4</td>\n      <td>Stacking Ring, custom made silver ring persona...</td>\n      <td>0.014372</td>\n      <td>0.0</td>\n      <td>0.970750</td>\n      <td>0.070750</td>\n      <td>0.004885</td>\n      <td>0.009943</td>\n      <td>0.146296</td>\n      <td>0</td>\n      <td>stacking ring custom made silver ring personal...</td>\n    </tr>\n    <tr>\n      <th>2</th>\n      <td>https://www.etsy.com/listing/168092030/word-ch...</td>\n      <td>4</td>\n      <td>Word Charms, hand stamped jewelry, personalize...</td>\n      <td>0.008473</td>\n      <td>0.0</td>\n      <td>0.970750</td>\n      <td>0.070750</td>\n      <td>0.004885</td>\n      <td>0.009943</td>\n      <td>0.146296</td>\n      <td>0</td>\n      <td>word charms hand stamped jewelry personalized ...</td>\n    </tr>\n    <tr>\n      <th>3</th>\n      <td>https://www.etsy.com/listing/249246208/minimal...</td>\n      <td>4</td>\n      <td>Minimalist Black And Gold Earrings Gold Dangle...</td>\n      <td>0.018662</td>\n      <td>0.0</td>\n      <td>0.971985</td>\n      <td>0.014374</td>\n      <td>0.005061</td>\n      <td>0.004306</td>\n      <td>0.253704</td>\n      <td>0</td>\n      <td>minimalist black gold earrings gold dangle ear...</td>\n    </tr>\n    <tr>\n      <th>4</th>\n      <td>https://www.etsy.com/listing/490120699/silver-...</td>\n      <td>4</td>\n      <td>Silver Stud Earrings Sapphire Earrings Septemb...</td>\n      <td>0.017053</td>\n      <td>0.0</td>\n      <td>0.971985</td>\n      <td>0.014374</td>\n      <td>0.005061</td>\n      <td>0.004306</td>\n      <td>0.253704</td>\n      <td>0</td>\n      <td>silver stud earrings sapphire earrings septemb...</td>\n    </tr>\n  </tbody>\n</table>\n</div>"
     },
     "execution_count": 18,
     "metadata": {},
     "output_type": "execute_result"
    }
   ],
   "source": [
    "data.to_csv('../data/combined_data_for_jana.csv')\n",
    "data.head()"
   ],
   "metadata": {
    "collapsed": false,
    "pycharm": {
     "name": "#%%\n"
    }
   }
  },
  {
   "cell_type": "code",
   "execution_count": 12,
   "outputs": [],
   "source": [
    "# NAME NLP\n",
    "contraction_mapping = {\n",
    "    \"ain't\": \"is not\",\"aren't\": \"are not\",\"can't\": \"cannot\",\"'cause\": \"because\",\"could've\": \"could have\",\"couldn't\": \"could not\",\n",
    "    \"didn't\": \"did not\",\"doesn't\": \"does not\",\"don't\": \"do not\",\"hadn't\": \"had not\",\"hasn't\": \"has not\",\"haven't\": \"have not\",\n",
    "    \"he'd\": \"he would\",\"he'll\": \"he will\",\"he's\": \"he is\",\"how'd\": \"how did\",\"how'd'y\": \"how do you\",\"how'll\": \"how will\",\"how's\": \"how is\",\n",
    "    \"I'd\": \"I would\",\"I'd've\": \"I would have\",\"I'll\": \"I will\",\"I'll've\": \"I will have\",\"I'm\": \"I am\",\"I've\": \"I have\",\"i'd\": \"i would\",\n",
    "    \"i'd've\": \"i would have\",\"i'll\": \"i will\",\"i'll've\": \"i will have\",\"i'm\": \"i am\",\"i've\": \"i have\",\"isn't\": \"is not\",\"it'd\": \"it would\",\n",
    "    \"it'd've\": \"it would have\", \"it'll\": \"it will\", \"it'll've\": \"it will have\",\"it's\": \"it is\", \"let's\": \"let us\", \"ma'am\": \"madam\",\n",
    "    \"mayn't\": \"may not\", \"might've\": \"might have\",\"mightn't\": \"might not\",\"mightn't've\": \"might not have\", \"must've\": \"must have\",\n",
    "    \"mustn't\": \"must not\", \"mustn't've\": \"must not have\", \"needn't\": \"need not\", \"needn't've\": \"need not have\",\"o'clock\": \"of the clock\",\n",
    "    \"oughtn't\": \"ought not\", \"oughtn't've\": \"ought not have\", \"shan't\": \"shall not\", \"sha'n't\": \"shall not\", \"shan't've\": \"shall not have\",\n",
    "    \"she'd\": \"she would\", \"she'd've\": \"she would have\", \"she'll\": \"she will\", \"she'll've\": \"she will have\", \"she's\": \"she is\",\n",
    "    \"should've\": \"should have\", \"shouldn't\": \"should not\", \"shouldn't've\": \"should not have\", \"so've\": \"so have\",\"so's\": \"so as\",\n",
    "    \"this's\": \"this is\",\"that'd\": \"that would\", \"that'd've\": \"that would have\", \"that's\": \"that is\", \"there'd\": \"there would\",\n",
    "    \"there'd've\": \"there would have\", \"there's\": \"there is\", \"here's\": \"here is\",\"they'd\": \"they would\", \"they'd've\": \"they would have\",\n",
    "    \"they'll\": \"they will\", \"they'll've\": \"they will have\", \"they're\": \"they are\", \"they've\": \"they have\", \"to've\": \"to have\",\n",
    "    \"wasn't\": \"was not\", \"we'd\": \"we would\", \"we'd've\": \"we would have\", \"we'll\": \"we will\", \"we'll've\": \"we will have\", \"we're\": \"we are\",\n",
    "    \"we've\": \"we have\", \"weren't\": \"were not\", \"what'll\": \"what will\", \"what'll've\": \"what will have\", \"what're\": \"what are\",\n",
    "    \"what's\": \"what is\", \"what've\": \"what have\", \"when's\": \"when is\", \"when've\": \"when have\", \"where'd\": \"where did\", \"where's\": \"where is\",\n",
    "    \"where've\": \"where have\", \"who'll\": \"who will\", \"who'll've\": \"who will have\", \"who's\": \"who is\", \"who've\": \"who have\",\n",
    "    \"why's\": \"why is\", \"why've\": \"why have\", \"will've\": \"will have\", \"won't\": \"will not\", \"won't've\": \"will not have\",\n",
    "    \"would've\": \"would have\", \"wouldn't\": \"would not\", \"wouldn't've\": \"would not have\", \"y'all\": \"you all\",\n",
    "    \"y'all'd\": \"you all would\",\"y'all'd've\": \"you all would have\",\"y'all're\": \"you all are\",\"y'all've\": \"you all have\",\n",
    "    \"you'd\": \"you would\", \"you'd've\": \"you would have\", \"you'll\": \"you will\", \"you'll've\": \"you will have\",\n",
    "    \"you're\": \"you are\", \"you've\": \"you have\"\n",
    "}"
   ],
   "metadata": {
    "collapsed": false,
    "pycharm": {
     "name": "#%%\n"
    }
   }
  },
  {
   "cell_type": "code",
   "execution_count": 13,
   "outputs": [],
   "source": [
    "data['productNameProcessed'] = data.apply(lambda x: text_cleaner(x.productName), axis=1)"
   ],
   "metadata": {
    "collapsed": false,
    "pycharm": {
     "name": "#%%\n"
    }
   }
  },
  {
   "cell_type": "code",
   "execution_count": 14,
   "outputs": [],
   "source": [
    "matrix = co_occurrence(data.productNameProcessed, 3)"
   ],
   "metadata": {
    "collapsed": false,
    "pycharm": {
     "name": "#%%\n"
    }
   }
  },
  {
   "cell_type": "code",
   "execution_count": 15,
   "outputs": [],
   "source": [
    "vocab = matrix.index.tolist()\n",
    "n = len(vocab)\n",
    "svd = TruncatedSVD(n_components=50, n_iter=10, random_state=42)\n",
    "reduced_matrix = svd.fit_transform(matrix)"
   ],
   "metadata": {
    "collapsed": false,
    "pycharm": {
     "name": "#%%\n"
    }
   }
  },
  {
   "cell_type": "code",
   "execution_count": 16,
   "outputs": [
    {
     "data": {
      "text/plain": "(5203, 50)"
     },
     "execution_count": 16,
     "metadata": {},
     "output_type": "execute_result"
    }
   ],
   "source": [
    "reduced_matrix.shape"
   ],
   "metadata": {
    "collapsed": false,
    "pycharm": {
     "name": "#%%\n"
    }
   }
  },
  {
   "cell_type": "code",
   "execution_count": 17,
   "outputs": [
    {
     "data": {
      "text/plain": "                     0         1         2         3         4         5   \\\naaa        1.576406e-05  0.425884  0.084931  0.226367  0.489225  0.289486   \nabalone    2.272307e-05  0.425857  0.082636  0.226689  0.489217  0.291059   \nabc        1.647746e-05  0.425892  0.083037  0.232623  0.489207  0.288918   \nabduction  7.116110e-09  0.425891  0.078959  0.227280  0.489207  0.290963   \nabraham    7.792486e-08  0.425891  0.078973  0.227287  0.489207  0.290986   \n...                 ...       ...       ...       ...       ...       ...   \nzircon     6.083798e-06  0.425890  0.085788  0.225498  0.489208  0.289151   \nzjz        9.487501e-06  0.425879  0.079477  0.227391  0.489213  0.291898   \nzombicorn  2.071358e-06  0.425892  0.080601  0.231284  0.489208  0.289199   \nzombie     1.775365e-05  0.425873  0.082361  0.229167  0.489219  0.289614   \nzoo        1.119259e-03  0.425595  0.079233  0.227363  0.489180  0.291690   \n\n                 6         7         8         9   ...        40        41  \\\naaa        0.197898  0.287899  0.414669  0.263883  ...  0.467368  0.486797   \nabalone    0.192947  0.280184  0.414855  0.264728  ...  0.483268  0.482093   \nabc        0.193758  0.281003  0.414760  0.264046  ...  0.455705  0.473090   \nabduction  0.193508  0.280579  0.414733  0.264892  ...  0.480516  0.483080   \nabraham    0.193511  0.280584  0.414731  0.264851  ...  0.480549  0.483143   \n...             ...       ...       ...       ...  ...       ...       ...   \nzircon     0.192127  0.278474  0.414703  0.267166  ...  0.485065  0.481440   \nzjz        0.193233  0.280557  0.414769  0.263968  ...  0.481417  0.484291   \nzombicorn  0.193349  0.280279  0.414732  0.265242  ...  0.481729  0.483471   \nzombie     0.194342  0.281698  0.414855  0.264274  ...  0.478787  0.479639   \nzoo        0.193241  0.280540  0.414220  0.263871  ...  0.483863  0.484206   \n\n                 42        43        44        45        46        47  \\\naaa        0.504283  0.414087  0.448050  0.499439  0.492157  0.396598   \nabalone    0.487881  0.412501  0.450634  0.498266  0.496306  0.399308   \nabc        0.502225  0.410894  0.452893  0.497804  0.490860  0.401719   \nabduction  0.495084  0.411053  0.452278  0.498672  0.493684  0.400651   \nabraham    0.494936  0.411016  0.451845  0.498725  0.493691  0.401207   \n...             ...       ...       ...       ...       ...       ...   \nzircon     0.492300  0.410016  0.447338  0.498772  0.492248  0.393258   \nzjz        0.494800  0.410873  0.453434  0.499080  0.493580  0.402179   \nzombicorn  0.497236  0.409289  0.452537  0.495373  0.484139  0.401246   \nzombie     0.493147  0.410024  0.449010  0.497602  0.494166  0.407566   \nzoo        0.495163  0.410519  0.451423  0.499027  0.493608  0.403988   \n\n                 48        49  \naaa        0.393797  0.417032  \nabalone    0.386591  0.413224  \nabc        0.391319  0.398406  \nabduction  0.391661  0.405872  \nabraham    0.391882  0.405415  \n...             ...       ...  \nzircon     0.392325  0.407903  \nzjz        0.393012  0.408208  \nzombicorn  0.392881  0.404905  \nzombie     0.392002  0.400758  \nzoo        0.392781  0.406697  \n\n[5203 rows x 50 columns]",
      "text/html": "<div>\n<style scoped>\n    .dataframe tbody tr th:only-of-type {\n        vertical-align: middle;\n    }\n\n    .dataframe tbody tr th {\n        vertical-align: top;\n    }\n\n    .dataframe thead th {\n        text-align: right;\n    }\n</style>\n<table border=\"1\" class=\"dataframe\">\n  <thead>\n    <tr style=\"text-align: right;\">\n      <th></th>\n      <th>0</th>\n      <th>1</th>\n      <th>2</th>\n      <th>3</th>\n      <th>4</th>\n      <th>5</th>\n      <th>6</th>\n      <th>7</th>\n      <th>8</th>\n      <th>9</th>\n      <th>...</th>\n      <th>40</th>\n      <th>41</th>\n      <th>42</th>\n      <th>43</th>\n      <th>44</th>\n      <th>45</th>\n      <th>46</th>\n      <th>47</th>\n      <th>48</th>\n      <th>49</th>\n    </tr>\n  </thead>\n  <tbody>\n    <tr>\n      <th>aaa</th>\n      <td>1.576406e-05</td>\n      <td>0.425884</td>\n      <td>0.084931</td>\n      <td>0.226367</td>\n      <td>0.489225</td>\n      <td>0.289486</td>\n      <td>0.197898</td>\n      <td>0.287899</td>\n      <td>0.414669</td>\n      <td>0.263883</td>\n      <td>...</td>\n      <td>0.467368</td>\n      <td>0.486797</td>\n      <td>0.504283</td>\n      <td>0.414087</td>\n      <td>0.448050</td>\n      <td>0.499439</td>\n      <td>0.492157</td>\n      <td>0.396598</td>\n      <td>0.393797</td>\n      <td>0.417032</td>\n    </tr>\n    <tr>\n      <th>abalone</th>\n      <td>2.272307e-05</td>\n      <td>0.425857</td>\n      <td>0.082636</td>\n      <td>0.226689</td>\n      <td>0.489217</td>\n      <td>0.291059</td>\n      <td>0.192947</td>\n      <td>0.280184</td>\n      <td>0.414855</td>\n      <td>0.264728</td>\n      <td>...</td>\n      <td>0.483268</td>\n      <td>0.482093</td>\n      <td>0.487881</td>\n      <td>0.412501</td>\n      <td>0.450634</td>\n      <td>0.498266</td>\n      <td>0.496306</td>\n      <td>0.399308</td>\n      <td>0.386591</td>\n      <td>0.413224</td>\n    </tr>\n    <tr>\n      <th>abc</th>\n      <td>1.647746e-05</td>\n      <td>0.425892</td>\n      <td>0.083037</td>\n      <td>0.232623</td>\n      <td>0.489207</td>\n      <td>0.288918</td>\n      <td>0.193758</td>\n      <td>0.281003</td>\n      <td>0.414760</td>\n      <td>0.264046</td>\n      <td>...</td>\n      <td>0.455705</td>\n      <td>0.473090</td>\n      <td>0.502225</td>\n      <td>0.410894</td>\n      <td>0.452893</td>\n      <td>0.497804</td>\n      <td>0.490860</td>\n      <td>0.401719</td>\n      <td>0.391319</td>\n      <td>0.398406</td>\n    </tr>\n    <tr>\n      <th>abduction</th>\n      <td>7.116110e-09</td>\n      <td>0.425891</td>\n      <td>0.078959</td>\n      <td>0.227280</td>\n      <td>0.489207</td>\n      <td>0.290963</td>\n      <td>0.193508</td>\n      <td>0.280579</td>\n      <td>0.414733</td>\n      <td>0.264892</td>\n      <td>...</td>\n      <td>0.480516</td>\n      <td>0.483080</td>\n      <td>0.495084</td>\n      <td>0.411053</td>\n      <td>0.452278</td>\n      <td>0.498672</td>\n      <td>0.493684</td>\n      <td>0.400651</td>\n      <td>0.391661</td>\n      <td>0.405872</td>\n    </tr>\n    <tr>\n      <th>abraham</th>\n      <td>7.792486e-08</td>\n      <td>0.425891</td>\n      <td>0.078973</td>\n      <td>0.227287</td>\n      <td>0.489207</td>\n      <td>0.290986</td>\n      <td>0.193511</td>\n      <td>0.280584</td>\n      <td>0.414731</td>\n      <td>0.264851</td>\n      <td>...</td>\n      <td>0.480549</td>\n      <td>0.483143</td>\n      <td>0.494936</td>\n      <td>0.411016</td>\n      <td>0.451845</td>\n      <td>0.498725</td>\n      <td>0.493691</td>\n      <td>0.401207</td>\n      <td>0.391882</td>\n      <td>0.405415</td>\n    </tr>\n    <tr>\n      <th>...</th>\n      <td>...</td>\n      <td>...</td>\n      <td>...</td>\n      <td>...</td>\n      <td>...</td>\n      <td>...</td>\n      <td>...</td>\n      <td>...</td>\n      <td>...</td>\n      <td>...</td>\n      <td>...</td>\n      <td>...</td>\n      <td>...</td>\n      <td>...</td>\n      <td>...</td>\n      <td>...</td>\n      <td>...</td>\n      <td>...</td>\n      <td>...</td>\n      <td>...</td>\n      <td>...</td>\n    </tr>\n    <tr>\n      <th>zircon</th>\n      <td>6.083798e-06</td>\n      <td>0.425890</td>\n      <td>0.085788</td>\n      <td>0.225498</td>\n      <td>0.489208</td>\n      <td>0.289151</td>\n      <td>0.192127</td>\n      <td>0.278474</td>\n      <td>0.414703</td>\n      <td>0.267166</td>\n      <td>...</td>\n      <td>0.485065</td>\n      <td>0.481440</td>\n      <td>0.492300</td>\n      <td>0.410016</td>\n      <td>0.447338</td>\n      <td>0.498772</td>\n      <td>0.492248</td>\n      <td>0.393258</td>\n      <td>0.392325</td>\n      <td>0.407903</td>\n    </tr>\n    <tr>\n      <th>zjz</th>\n      <td>9.487501e-06</td>\n      <td>0.425879</td>\n      <td>0.079477</td>\n      <td>0.227391</td>\n      <td>0.489213</td>\n      <td>0.291898</td>\n      <td>0.193233</td>\n      <td>0.280557</td>\n      <td>0.414769</td>\n      <td>0.263968</td>\n      <td>...</td>\n      <td>0.481417</td>\n      <td>0.484291</td>\n      <td>0.494800</td>\n      <td>0.410873</td>\n      <td>0.453434</td>\n      <td>0.499080</td>\n      <td>0.493580</td>\n      <td>0.402179</td>\n      <td>0.393012</td>\n      <td>0.408208</td>\n    </tr>\n    <tr>\n      <th>zombicorn</th>\n      <td>2.071358e-06</td>\n      <td>0.425892</td>\n      <td>0.080601</td>\n      <td>0.231284</td>\n      <td>0.489208</td>\n      <td>0.289199</td>\n      <td>0.193349</td>\n      <td>0.280279</td>\n      <td>0.414732</td>\n      <td>0.265242</td>\n      <td>...</td>\n      <td>0.481729</td>\n      <td>0.483471</td>\n      <td>0.497236</td>\n      <td>0.409289</td>\n      <td>0.452537</td>\n      <td>0.495373</td>\n      <td>0.484139</td>\n      <td>0.401246</td>\n      <td>0.392881</td>\n      <td>0.404905</td>\n    </tr>\n    <tr>\n      <th>zombie</th>\n      <td>1.775365e-05</td>\n      <td>0.425873</td>\n      <td>0.082361</td>\n      <td>0.229167</td>\n      <td>0.489219</td>\n      <td>0.289614</td>\n      <td>0.194342</td>\n      <td>0.281698</td>\n      <td>0.414855</td>\n      <td>0.264274</td>\n      <td>...</td>\n      <td>0.478787</td>\n      <td>0.479639</td>\n      <td>0.493147</td>\n      <td>0.410024</td>\n      <td>0.449010</td>\n      <td>0.497602</td>\n      <td>0.494166</td>\n      <td>0.407566</td>\n      <td>0.392002</td>\n      <td>0.400758</td>\n    </tr>\n    <tr>\n      <th>zoo</th>\n      <td>1.119259e-03</td>\n      <td>0.425595</td>\n      <td>0.079233</td>\n      <td>0.227363</td>\n      <td>0.489180</td>\n      <td>0.291690</td>\n      <td>0.193241</td>\n      <td>0.280540</td>\n      <td>0.414220</td>\n      <td>0.263871</td>\n      <td>...</td>\n      <td>0.483863</td>\n      <td>0.484206</td>\n      <td>0.495163</td>\n      <td>0.410519</td>\n      <td>0.451423</td>\n      <td>0.499027</td>\n      <td>0.493608</td>\n      <td>0.403988</td>\n      <td>0.392781</td>\n      <td>0.406697</td>\n    </tr>\n  </tbody>\n</table>\n<p>5203 rows × 50 columns</p>\n</div>"
     },
     "execution_count": 17,
     "metadata": {},
     "output_type": "execute_result"
    }
   ],
   "source": [
    "m_scale = MinMaxScaler()\n",
    "reduced_matrix = m_scale.fit_transform(reduced_matrix)\n",
    "\n",
    "df = pd.DataFrame(data=reduced_matrix, index=vocab, columns=[i for i in range(50)])\n",
    "df"
   ],
   "metadata": {
    "collapsed": false,
    "pycharm": {
     "name": "#%%\n"
    }
   }
  }
 ],
 "metadata": {
  "kernelspec": {
   "display_name": "Python 3",
   "language": "python",
   "name": "python3"
  },
  "language_info": {
   "codemirror_mode": {
    "name": "ipython",
    "version": 2
   },
   "file_extension": ".py",
   "mimetype": "text/x-python",
   "name": "python",
   "nbconvert_exporter": "python",
   "pygments_lexer": "ipython2",
   "version": "2.7.6"
  }
 },
 "nbformat": 4,
 "nbformat_minor": 0
}